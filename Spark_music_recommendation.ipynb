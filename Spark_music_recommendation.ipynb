{
 "cells": [
  {
   "cell_type": "markdown",
   "metadata": {
    "colab_type": "text",
    "id": "9PKkhmUr7hIL"
   },
   "source": [
    "# **Sử dụng Spark để xây dựng một hệ thống đề xuất âm nhạc**\n",
    "Hệ thống đề xuất là công cụ giúp dự đoán những gì mà người dùng có thể thích hoặc không thích trong danh sách những mục đã cho. Đây này là cách để thay thế cho việc tìm kiếm nội dung, nó sẽ giúp người dùng khám phá sản phẩm hoặc nội dung mà họ có thể chưa bắt gặp. Ví dụ: Facebook gợi ý bạn bè, các page cho người dùng, Youtube gợi ý video mà người dùng có thể quan tâm, Tiki, Lazada gợi ý các sản phẩm, mặt hàng mà người dùng có thể cần... Công cụ này sẽ thu hút người dùng đến các dịch vụ từ đó có thể tối ưu hóa doanh thu cho các nhà cung cấp và duy trì sự quan tâm đến dịch vụ.\n",
    "\n",
    "Trong notebook này, chúng tôi sẽ tập trung vào việc sử dụng Spark để xây dựng một hệ thống đề xuất đơn giản và sử dụng một thuật toán để dự đoán những mục mà người dùng có thể thích được gọi là *ALS (Alternating least squares)*.\n"
   ]
  },
  {
   "cell_type": "markdown",
   "metadata": {
    "colab_type": "text",
    "id": "6knthyc0Vdux"
   },
   "source": [
    "# **1. Data**\n",
    "Trong notebook này, chúng tôi sử dụng bổ dữ liệu được xuất bản bởi Audioscrobbler - một hệ thống đề xuất âm nhạc cho last.fm."
   ]
  },
  {
   "cell_type": "markdown",
   "metadata": {
    "colab_type": "text",
    "id": "1bhh6Qu4QsQ0"
   },
   "source": [
    "## **1.1 Data schema**\n",
    "Không giống như tập dữ liệu xếp hạng chứa thông tin về sở thích của người dùng đối với sản phẩm (một sao, năm sao,...)(explicit ratings), bộ dữ liệu từ Audioscrobbler chỉ có thông tin về số lần một người dùng phát bài hát của một nghệ sĩ và tên của nghệ sĩ (implicit ratings).\n",
    "\n",
    "Dữ liệu chúng tôi sử dụng trong Notebook này có 3 tệp:\n",
    "\n",
    "\n",
    "*   **user_artist_data.txt**: Nó chứa khoảng 141000 người dùng, 1.6 triệu nghệ sĩ và khoảng 24.2 triệu lượt phát của người dùng được ghi lại. Nó có 3 cột cách nhau bởi dấu cách.\n",
    "\n",
    "| userID | artistID | playCount |\n",
    "| --- | --- | --- |\n",
    "|  |  |  |\n",
    "\n",
    "\n",
    "*   **artist_data.txt**: Nó có 2 cột được tách nhau bởi dấu tab (\\t). Cột thứ nhất chứa ID của nghệ sĩ, cột thứ hai chứa tên tương ứng với ID.\n",
    "\n",
    "| artistID | name |\n",
    "| --- | --- |\n",
    "|  |  |\n",
    "\n",
    "\n",
    "*   **artist_alias.txt**: Có trường hợp tên của nghệ sĩ có thể bị sai chính tả hoặc không chuẩn. Ví dụ: \"The Smiths\", \"Smiths, The\" và \"the smiths\" có thể xuất hiện với ID riêng biệt trong tập dữ liệu mặc dù chúng cùng là một nghệ sĩ. artist_alias.txt ánh xạ ID nghệ sĩ lỗi chính tả hoặc không chuẩn thành ID chuẩn của nghệ sĩ đó. Dữ liệu trong tệp này có 2 cột được phân tách bằng dấu tab (\\t).\n",
    "\n",
    "| misspelledID | standardID |\n",
    "| --- | --- |\n",
    "|  |  |\n",
    "\n",
    "\n",
    "\n"
   ]
  },
  {
   "cell_type": "markdown",
   "metadata": {
    "colab_type": "text",
    "id": "ZWy-fWYs4_3p"
   },
   "source": [
    "## **1.2 Một số thống kê mô tả về dữ liệu**"
   ]
  },
  {
   "cell_type": "markdown",
   "metadata": {
    "colab_type": "text",
    "id": "lLcK53P77oTx"
   },
   "source": [
    "Để lựa chọn hoặc thiết kế một thuật toán phù hợp cho bài toán, trước tiên chúng ta tìm hiểu các đặc điểm của dữ liệu. Trước tiên, ta cần import một số thư viện cần thiết. Đồng thời, do Notebook này được thực thi trên Google Colab nên ta cần cài đặt một số các gói và thiết lập biến môi trường.\n",
    "\n",
    "\n",
    "\n"
   ]
  },
  {
   "cell_type": "code",
   "execution_count": 0,
   "metadata": {
    "colab": {},
    "colab_type": "code",
    "id": "bLCgU4yYLF9a"
   },
   "outputs": [],
   "source": [
    "# cài đặt java 8, apache spark, findspark\n",
    "!apt-get install openjdk-8-jdk-headless -qq > /dev/null\n",
    "!wget -q http://mirror.downloadvn.com/apache/spark/spark-2.4.4/spark-2.4.4-bin-hadoop2.7.tgz\n",
    "!tar xvf spark-2.4.4-bin-hadoop2.7.tgz\n",
    "!pip install -q findspark"
   ]
  },
  {
   "cell_type": "code",
   "execution_count": 0,
   "metadata": {
    "colab": {},
    "colab_type": "code",
    "id": "XRlJhzMKQawQ"
   },
   "outputs": [],
   "source": [
    "# cài đặt biến môi trường\n",
    "import os\n",
    "os.environ[\"JAVA_HOME\"] = \"/usr/lib/jvm/java-8-openjdk-amd64\"\n",
    "os.environ[\"SPARK_HOME\"] = \"/content/spark-2.4.4-bin-hadoop2.7\""
   ]
  },
  {
   "cell_type": "code",
   "execution_count": 0,
   "metadata": {
    "colab": {},
    "colab_type": "code",
    "id": "AeAGsipCQc2a"
   },
   "outputs": [],
   "source": [
    "# liên kết tới drive\n",
    "from __future__ import print_function\n",
    "\n",
    "from google.colab import drive\n",
    "drive.mount('/content/drive')"
   ]
  },
  {
   "cell_type": "code",
   "execution_count": 0,
   "metadata": {
    "colab": {},
    "colab_type": "code",
    "id": "mQIauVr_QjX8"
   },
   "outputs": [],
   "source": [
    "import findspark\n",
    "findspark.init()"
   ]
  },
  {
   "cell_type": "code",
   "execution_count": 0,
   "metadata": {
    "colab": {},
    "colab_type": "code",
    "id": "tiVBtE9GQtOh"
   },
   "outputs": [],
   "source": [
    "import pyspark"
   ]
  },
  {
   "cell_type": "code",
   "execution_count": 0,
   "metadata": {
    "colab": {},
    "colab_type": "code",
    "id": "Sim8ywL4Q4ai"
   },
   "outputs": [],
   "source": [
    "import sys\n",
    "import re\n",
    "import random\n",
    "from pyspark import SparkContext, SparkConf\n",
    "from pyspark.sql import SparkSession, Row, SQLContext\n",
    "from pyspark.sql.types import *\n",
    "from pyspark.sql.functions import *\n",
    "\n",
    "%matplotlib inline\n",
    "import pandas as pd\n",
    "import numpy as np\n",
    "from time import time"
   ]
  },
  {
   "cell_type": "code",
   "execution_count": 0,
   "metadata": {
    "colab": {},
    "colab_type": "code",
    "id": "dP4TJ92kReWC"
   },
   "outputs": [],
   "source": [
    "try:\n",
    "    sc.stop()\n",
    "except:\n",
    "    pass\n",
    "sc=SparkContext()\n",
    "spark = SparkSession(sparkContext=sc)\n",
    "sqlContext = SQLContext(sc)\n",
    "base = \"/content/drive/My Drive/Dataset/\""
   ]
  },
  {
   "cell_type": "code",
   "execution_count": 8,
   "metadata": {
    "colab": {
     "base_uri": "https://localhost:8080/",
     "height": 102
    },
    "colab_type": "code",
    "id": "Q_LHmmAMSFxO",
    "outputId": "8ceaa2c9-b6f7-4e45-d8fb-d2c64a6438ef"
   },
   "outputs": [
    {
     "data": {
      "text/plain": [
       "['1000002 1 55',\n",
       " '1000002 1000006 33',\n",
       " '1000002 1000007 8',\n",
       " '1000002 1000009 144',\n",
       " '1000002 1000010 314']"
      ]
     },
     "execution_count": 8,
     "metadata": {
      "tags": []
     },
     "output_type": "execute_result"
    }
   ],
   "source": [
    "# tạo RDD bằng textFile từ user_artist_data.txt\n",
    "rawUserArtistData = sc.textFile(base + \"user_artist_data.txt\")\n",
    "\n",
    "# đưa ra 5 dòng đầu tiên của rawUserArtistData\n",
    "rawUserArtistData.take(5)"
   ]
  },
  {
   "cell_type": "markdown",
   "metadata": {
    "colab_type": "text",
    "id": "ag_Srv83LY00"
   },
   "source": [
    "`RDD` gốc là tập hợp của các dòng trong dữ liệu. Để tiện cho việc xử lý sau này ta sẽ đưa `RDD` gốc này về `RDD` của các `tuple` hoặc `list`"
   ]
  },
  {
   "cell_type": "code",
   "execution_count": 9,
   "metadata": {
    "colab": {
     "base_uri": "https://localhost:8080/",
     "height": 102
    },
    "colab_type": "code",
    "id": "2rJTD7E1-l4B",
    "outputId": "c74edaaa-0d4c-464f-a255-cbc5525bdfe2"
   },
   "outputs": [
    {
     "data": {
      "text/plain": [
       "[(1000002, 1, 55),\n",
       " (1000002, 1000006, 33),\n",
       " (1000002, 1000007, 8),\n",
       " (1000002, 1000009, 144),\n",
       " (1000002, 1000010, 314)]"
      ]
     },
     "execution_count": 9,
     "metadata": {
      "tags": []
     },
     "output_type": "execute_result"
    }
   ],
   "source": [
    "# chia mỗi dòng bởi dấu \"khoảng trắng\"\n",
    "# đưa mỗi dòng về dạng tuple(int, int, int)\n",
    "userArtistData = rawUserArtistData \\\n",
    "    .map(lambda line: line.split()) \\\n",
    "    .map(lambda p: (int(p[0]), int(p[1]), int(p[2])))\n",
    "\n",
    "userArtistData.take(5)"
   ]
  },
  {
   "cell_type": "markdown",
   "metadata": {
    "colab_type": "text",
    "id": "vRrwJLFqr_d3"
   },
   "source": [
    "Ta sẽ sử dụng một số Action, Transformation trong Spark RDD để đưa ra một vài các thống kê cơ bản."
   ]
  },
  {
   "cell_type": "code",
   "execution_count": 10,
   "metadata": {
    "colab": {
     "base_uri": "https://localhost:8080/",
     "height": 102
    },
    "colab_type": "code",
    "id": "8YC69B5ITVab",
    "outputId": "e68416be-c4f6-4327-e0df-605335a56a49"
   },
   "outputs": [
    {
     "data": {
      "text/plain": [
       "[(979, 2502130),\n",
       " (1000113, 2259185),\n",
       " (4267, 1930592),\n",
       " (1000024, 1542806),\n",
       " (4468, 1425942)]"
      ]
     },
     "execution_count": 10,
     "metadata": {
      "tags": []
     },
     "output_type": "execute_result"
    }
   ],
   "source": [
    "# Đưa ra 5 nghệ sĩ có nhiều lượt nghe nhất:\n",
    "# map để lấy ra artistID và playCount\n",
    "# reduceByKey để tính tổng playCount cho mỗi artistID\n",
    "# sortBy để sắp xếp theo playCount đã tổng hợp\n",
    "\n",
    "listenCountSorted = userArtistData \\\n",
    "    .map(lambda p: (p[1], p[2])) \\\n",
    "    .reduceByKey(lambda v1,v2: v1 + v2) \\\n",
    "    .sortBy(lambda x: x[1], ascending = False)\n",
    "\n",
    "listenCountSorted.take(5)"
   ]
  },
  {
   "cell_type": "markdown",
   "metadata": {
    "colab_type": "text",
    "id": "3O9IWA4js60R"
   },
   "source": [
    "Ta cũng có thể dùng hàm `combineByKey(creatCombiner, mergeValue, mergeCombiners)` thay cho hàm `reduceByKey` trong trường hợp trên như đoạn mã dưới đây:"
   ]
  },
  {
   "cell_type": "code",
   "execution_count": 11,
   "metadata": {
    "colab": {
     "base_uri": "https://localhost:8080/",
     "height": 102
    },
    "colab_type": "code",
    "id": "81DhPwUPVQ0Y",
    "outputId": "867cf941-8379-418a-f2a7-7e3b76ed16f9"
   },
   "outputs": [
    {
     "data": {
      "text/plain": [
       "[(979, 2502130),\n",
       " (1000113, 2259185),\n",
       " (4267, 1930592),\n",
       " (1000024, 1542806),\n",
       " (4468, 1425942)]"
      ]
     },
     "execution_count": 11,
     "metadata": {
      "tags": []
     },
     "output_type": "execute_result"
    }
   ],
   "source": [
    "def createCombiner(d):\n",
    "    return d\n",
    "\n",
    "def mergeValue(a,b):\n",
    "    return a + b\n",
    "\n",
    "def mergeCombiners(a,b):\n",
    "    return a + b\n",
    "\n",
    "listenCountSorted = userArtistData \\\n",
    "    .map(lambda p: (p[1], p[2])) \\\n",
    "    .combineByKey(createCombiner, mergeValue, mergeCombiners) \\\n",
    "    .sortBy(lambda x: x[1], ascending = False)\n",
    "\n",
    "listenCountSorted.take(5)"
   ]
  },
  {
   "cell_type": "code",
   "execution_count": 12,
   "metadata": {
    "colab": {
     "base_uri": "https://localhost:8080/",
     "height": 34
    },
    "colab_type": "code",
    "id": "hevc9Rx6kyMx",
    "outputId": "69479b30-91a0-4dbf-8001-9a81a4f18c0c"
   },
   "outputs": [
    {
     "data": {
      "text/plain": [
       "[(1000025, 233), (1000038, 59), (1000051, 50), (1000077, 116), (1000090, 150)]"
      ]
     },
     "execution_count": 12,
     "metadata": {
      "tags": []
     },
     "output_type": "execute_result"
    }
   ],
   "source": [
    "## Đối với mỗi user, đưa ra tổng số artist mà user đó đã nghe\n",
    "\n",
    "# map để lấy ra userID và artistID\n",
    "# groupByKey để nhóm các artistID thành một bộ theo userID\n",
    "# mapValues(len) để đếm số phần tử trong bộ đó.\n",
    "numArtistListened = userArtistData \\\n",
    "    .map(lambda p: (p[0], p[1])) \\\n",
    "    .groupByKey() \\\n",
    "    .mapValues(len)\n",
    "\n",
    "numArtistListened.take(5)"
   ]
  },
  {
   "cell_type": "markdown",
   "metadata": {
    "colab_type": "text",
    "id": "QybyD5wJxbnf"
   },
   "source": [
    "Đối với cùng một `userID`, 1 `artistID` chỉ xuất hiện 1 lần nên ta có thể sử dụng hàm `aggregateByKey` như bên dưới để đưa ra tổng số playCount và tổng số artist mà user đó đã nghe."
   ]
  },
  {
   "cell_type": "code",
   "execution_count": 13,
   "metadata": {
    "colab": {
     "base_uri": "https://localhost:8080/",
     "height": 102
    },
    "colab_type": "code",
    "id": "j57KbLaYbNtB",
    "outputId": "ec8d2f55-d078-4650-8d4a-cb1982844e54"
   },
   "outputs": [
    {
     "data": {
      "text/plain": [
       "[(1000025, (3589, 233)),\n",
       " (1000038, (129, 59)),\n",
       " (1000051, (131, 50)),\n",
       " (1000077, (2657, 116)),\n",
       " (1000090, (904, 150))]"
      ]
     },
     "execution_count": 13,
     "metadata": {
      "tags": []
     },
     "output_type": "execute_result"
    }
   ],
   "source": [
    "## Đối với mỗi user, đưa ra tổng số playCount và tổng số artist mà user đó đã nghe\n",
    "\n",
    "seqFunc = (lambda x, y: (x[0] + y, x[1] + 1))\n",
    "combFunc = (lambda x, y: (x[0] + y[0], x[1] + y[1]))\n",
    "\n",
    "# map để lấy ra userID và playCount\n",
    "numPlayCountListened = userArtistData \\\n",
    "    .map(lambda p: (p[0], p[2])) \\\n",
    "    .aggregateByKey((0,0), seqFunc, combFunc)\n",
    "\n",
    "numPlayCountListened.take(5)"
   ]
  },
  {
   "cell_type": "code",
   "execution_count": 14,
   "metadata": {
    "colab": {
     "base_uri": "https://localhost:8080/",
     "height": 289
    },
    "colab_type": "code",
    "id": "i_bvl8OnOQD6",
    "outputId": "969fb365-cd1a-411e-f385-0f141d551a6e"
   },
   "outputs": [
    {
     "name": "stdout",
     "output_type": "stream",
     "text": [
      "+-------+--------+---------+\n",
      "| userID|artistID|playCount|\n",
      "+-------+--------+---------+\n",
      "|1000002|       1|       55|\n",
      "|1000002| 1000006|       33|\n",
      "|1000002| 1000007|        8|\n",
      "|1000002| 1000009|      144|\n",
      "|1000002| 1000010|      314|\n",
      "|1000002| 1000013|        8|\n",
      "|1000002| 1000014|       42|\n",
      "|1000002| 1000017|       69|\n",
      "|1000002| 1000024|      329|\n",
      "|1000002| 1000025|        1|\n",
      "+-------+--------+---------+\n",
      "only showing top 10 rows\n",
      "\n"
     ]
    }
   ],
   "source": [
    "# sử dụng spark.creatDataFrame để tạo DataFrame gán tên cho các cột\n",
    "userArtistDF = spark.createDataFrame(userArtistData, (\"userID\", \"artistID\", \"playCount\"))\n",
    "\n",
    "userArtistDF.show(10)"
   ]
  },
  {
   "cell_type": "code",
   "execution_count": 15,
   "metadata": {
    "colab": {
     "base_uri": "https://localhost:8080/",
     "height": 289
    },
    "colab_type": "code",
    "id": "S6BIwF7kSvQX",
    "outputId": "41cb06a7-5716-47ae-93fa-f8372a2c60b0"
   },
   "outputs": [
    {
     "name": "stdout",
     "output_type": "stream",
     "text": [
      "+-------+--------+---------+\n",
      "| userID|artistID|playCount|\n",
      "+-------+--------+---------+\n",
      "|1000002|       1|       55|\n",
      "|1000002| 1000006|       33|\n",
      "|1000002| 1000007|        8|\n",
      "|1000002| 1000009|      144|\n",
      "|1000002| 1000010|      314|\n",
      "|1000002| 1000013|        8|\n",
      "|1000002| 1000014|       42|\n",
      "|1000002| 1000017|       69|\n",
      "|1000002| 1000024|      329|\n",
      "|1000002| 1000025|        1|\n",
      "+-------+--------+---------+\n",
      "only showing top 10 rows\n",
      "\n"
     ]
    }
   ],
   "source": [
    "# hoặc có thể dùng toDF để tạo DataFrame\n",
    "userArtistDF = userArtistData.toDF((\"userID\", \"artistID\", \"playCount\"))\n",
    "\n",
    "userArtistDF.show(10)"
   ]
  },
  {
   "cell_type": "code",
   "execution_count": 16,
   "metadata": {
    "colab": {
     "base_uri": "https://localhost:8080/",
     "height": 34
    },
    "colab_type": "code",
    "id": "w46QKlxpPBkt",
    "outputId": "5f627056-7170-4ea6-d84a-160ee0e430a8"
   },
   "outputs": [
    {
     "data": {
      "text/plain": [
       "DataFrame[userID: bigint, artistID: bigint, playCount: bigint]"
      ]
     },
     "execution_count": 16,
     "metadata": {
      "tags": []
     },
     "output_type": "execute_result"
    }
   ],
   "source": [
    "# Lưu trữ DataFrame vào bố nhớ cache\n",
    "userArtistDF.cache()"
   ]
  },
  {
   "cell_type": "code",
   "execution_count": 17,
   "metadata": {
    "colab": {
     "base_uri": "https://localhost:8080/",
     "height": 34
    },
    "colab_type": "code",
    "id": "ZnHuLPIHTeCV",
    "outputId": "08845297-1118-4aa1-c392-d9767aba84fa"
   },
   "outputs": [
    {
     "name": "stdout",
     "output_type": "stream",
     "text": [
      "Tổng số người dùng:  148111\n"
     ]
    }
   ],
   "source": [
    "# Đếm số người dùng khác nhau trong dữ liệu \n",
    "uniqueUsers = userArtistDF.select(\"userID\").distinct().count()\n",
    "print(\"Tổng số người dùng: \", uniqueUsers)"
   ]
  },
  {
   "cell_type": "code",
   "execution_count": 18,
   "metadata": {
    "colab": {
     "base_uri": "https://localhost:8080/",
     "height": 34
    },
    "colab_type": "code",
    "id": "7QSKJVZtThqm",
    "outputId": "f63d0cb8-e072-416d-fe53-90eb6480251f"
   },
   "outputs": [
    {
     "name": "stdout",
     "output_type": "stream",
     "text": [
      "Tổng số nghệ sĩ:  1631028\n"
     ]
    }
   ],
   "source": [
    "# Đếm số nghệ sĩ khác nhau trong dữ liệu\n",
    "uniqueArtists = userArtistDF.select(\"artistID\").distinct().count()\n",
    "print(\"Tổng số nghệ sĩ: \", uniqueArtists)"
   ]
  },
  {
   "cell_type": "markdown",
   "metadata": {
    "colab_type": "text",
    "id": "fhbxZC7qTljV"
   },
   "source": [
    "Một hạn chế khi sử dụng ALS trong Spark MLlib mà chúng ta sẽ sử dụng sau này là nó yêu cầu những IDs phải là những số nguyên 32-bit không âm tức là 0 <= IDs <= 2^31 - 1 (2147483647). Do đó, ta phải kiểm tra bộ dữ liệu này có phù hợp không."
   ]
  },
  {
   "cell_type": "code",
   "execution_count": 19,
   "metadata": {
    "colab": {
     "base_uri": "https://localhost:8080/",
     "height": 187
    },
    "colab_type": "code",
    "id": "ADRbXbFpTi9d",
    "outputId": "497bcfb3-bce8-4bf4-9fff-4c863312272f"
   },
   "outputs": [
    {
     "name": "stdout",
     "output_type": "stream",
     "text": [
      "+-------+------------------+------------------+------------------+\n",
      "|summary|            userID|          artistID|         playCount|\n",
      "+-------+------------------+------------------+------------------+\n",
      "|  count|          24296858|          24296858|          24296858|\n",
      "|   mean|1947573.2653533637|1718704.0937568964| 15.29576248089362|\n",
      "| stddev| 496000.5551818977|2539389.0924283406|153.91532446980173|\n",
      "|    min|                90|                 1|                 1|\n",
      "|    max|           2443548|          10794401|            439771|\n",
      "+-------+------------------+------------------+------------------+\n",
      "\n"
     ]
    }
   ],
   "source": [
    "# đưa ra các mô tả của DataFrame\n",
    "userArtistDF.describe().show()"
   ]
  },
  {
   "cell_type": "markdown",
   "metadata": {
    "colab_type": "text",
    "id": "Oj7zsf53TusB"
   },
   "source": [
    "Nhận thấy trong tập dữ liệu chỉ có 148111 người dùng, 1631028 nghệ sĩ, giá trị lớn nhất của `userID` và `artistID` vẫn nhỏ hơn số lớn nhất của kiểu integer. Do đó, ta có thể sử dụng được luôn những ID này.\n",
    "\n",
    "Tiếp theo, ta sẽ đi phân tích file dữ liệu `artist_data.txt`\n"
   ]
  },
  {
   "cell_type": "code",
   "execution_count": 20,
   "metadata": {
    "colab": {
     "base_uri": "https://localhost:8080/",
     "height": 102
    },
    "colab_type": "code",
    "id": "7WlCbKYshdoJ",
    "outputId": "27e0a287-6a8e-4e18-eea6-e4328fdb9d33"
   },
   "outputs": [
    {
     "data": {
      "text/plain": [
       "['1134999\\t06Crazy Life',\n",
       " '6821360\\tPang Nakarin',\n",
       " '10113088\\tTerfel, Bartoli- Mozart: Don',\n",
       " '10151459\\tThe Flaming Sidebur',\n",
       " '6826647\\tBodenstandig 3000']"
      ]
     },
     "execution_count": 20,
     "metadata": {
      "tags": []
     },
     "output_type": "execute_result"
    }
   ],
   "source": [
    "# tạo RDD từ artist_data.txt\n",
    "rawArtistData = sc.textFile(base + \"artist_data.txt\")\n",
    "\n",
    "# đưa ra 5 dòng đầu tiên của rawArtistData\n",
    "rawArtistData.take(5)"
   ]
  },
  {
   "cell_type": "markdown",
   "metadata": {
    "colab_type": "text",
    "id": "_1ztnfSQw5n2"
   },
   "source": [
    "Như đã nói ở trên, 2 cột của `artist_data.txt` được tách nhau bởi dấu tab (\\t). Ta sẽ thêm một vài xử lý cho dữ liệu này để đưa nó về DataFrame để có thể dễ dàng quan sát và xử lý.\n",
    "\n",
    "Trước tiên, do trong `artist_data.txt` sẽ có trường hợp không có ID của nghệ sĩ hoặc ID không ở kiểu integer nên ta sẽ đi xây dựng hàm `isInt()` để kiểm tra ID có là kiểu int không."
   ]
  },
  {
   "cell_type": "code",
   "execution_count": 0,
   "metadata": {
    "colab": {},
    "colab_type": "code",
    "id": "Boef4JXGy9I4"
   },
   "outputs": [],
   "source": [
    "# hàm isInt() kiểm tra 1 đầu vào có phải kiểu Int không\n",
    "def isInt(s):\n",
    "    try:\n",
    "        int(s)\n",
    "        return True\n",
    "    except ValueError:\n",
    "        return False"
   ]
  },
  {
   "cell_type": "code",
   "execution_count": 22,
   "metadata": {
    "colab": {
     "base_uri": "https://localhost:8080/",
     "height": 102
    },
    "colab_type": "code",
    "id": "UIYhcKQ-hbMF",
    "outputId": "709d2f6c-231a-46b5-cfbd-6b7c3e2fd329"
   },
   "outputs": [
    {
     "data": {
      "text/plain": [
       "[(1134999, '06Crazy Life'),\n",
       " (6821360, 'Pang Nakarin'),\n",
       " (10113088, 'Terfel, Bartoli- Mozart: Don'),\n",
       " (10151459, 'The Flaming Sidebur'),\n",
       " (6826647, 'Bodenstandig 3000')]"
      ]
     },
     "execution_count": 22,
     "metadata": {
      "tags": []
     },
     "output_type": "execute_result"
    }
   ],
   "source": [
    "# chia mỗi dòng bởi dấu \"\\t\"\n",
    "# loại bỏ những dòng không có ID hoặc ID không phải kiểu Int\n",
    "# đưa mỗi dòng về dạng tuple(int, str)\n",
    "artistData = rawArtistData \\\n",
    "    .map(lambda line: line.split('\\t')) \\\n",
    "    .filter(lambda line: line[0] and isInt(line[0])) \\\n",
    "    .map(lambda p: (int(p[0]),p[1].strip()))\n",
    "\n",
    "artistData.take(5)"
   ]
  },
  {
   "cell_type": "code",
   "execution_count": 23,
   "metadata": {
    "colab": {
     "base_uri": "https://localhost:8080/",
     "height": 204
    },
    "colab_type": "code",
    "id": "GtEwVB3W_zuC",
    "outputId": "63ae5e91-ec17-4e18-be6f-124c9f0eca45"
   },
   "outputs": [
    {
     "name": "stdout",
     "output_type": "stream",
     "text": [
      "+--------+--------------------+\n",
      "|artistID|                name|\n",
      "+--------+--------------------+\n",
      "| 1134999|        06Crazy Life|\n",
      "| 6821360|        Pang Nakarin|\n",
      "|10113088|Terfel, Bartoli- ...|\n",
      "|10151459| The Flaming Sidebur|\n",
      "| 6826647|   Bodenstandig 3000|\n",
      "+--------+--------------------+\n",
      "only showing top 5 rows\n",
      "\n"
     ]
    }
   ],
   "source": [
    "# chuyển về DataFrame và gán tên cho các cột\n",
    "artistDF = artistData.toDF((\"artistID\", \"name\"))\n",
    "\n",
    "# Lưu trữ DataFrame vào bộ nhớ cache\n",
    "artistDF.cache()\n",
    "\n",
    "artistDF.show(5)"
   ]
  },
  {
   "cell_type": "code",
   "execution_count": 24,
   "metadata": {
    "colab": {
     "base_uri": "https://localhost:8080/",
     "height": 663
    },
    "colab_type": "code",
    "id": "0cwtFyCDqhry",
    "outputId": "318043bc-c59d-407b-91cc-3b41b94636c4"
   },
   "outputs": [
    {
     "name": "stdout",
     "output_type": "stream",
     "text": [
      "+--------+----------------------------------------------+\n",
      "|artistID|name                                          |\n",
      "+--------+----------------------------------------------+\n",
      "|10586006|Dusty Springfield/Aerosmith                   |\n",
      "|6946007 |Aerosmith/RunDMC                              |\n",
      "|10475683|Aerosmith: Just Push Play                     |\n",
      "|1083031 |Aerosmith/ G n R                              |\n",
      "|6872848 |Britney, Nsync, Nelly, Aerosmith,Mary J Blige.|\n",
      "|10586963|Green Day - Oasis - Eminem - Aerosmith        |\n",
      "|10028830|The Aerosmith Antology2                       |\n",
      "|10300357|Run-DMC + Aerosmith                           |\n",
      "|2027746 |Aerosmith by MusicInter.com                   |\n",
      "|1140418 |[rap]Run DMC and Aerosmith                    |\n",
      "|10237208|Aerosmith + Run DMC                           |\n",
      "|10588537|Aerosmith, Kid Rock, & Run DMC                |\n",
      "|9934757 |Aerosmith - Big Ones                          |\n",
      "|10437510|Green Day ft. Oasis & Aerosmith               |\n",
      "|6936680 |RUN DNC & Aerosmith                           |\n",
      "|10479781|Aerosmith Hits                                |\n",
      "|10114147|Charlies Angels - Aerosmith                   |\n",
      "|1262439 |Kid Rock, Run DMC & Aerosmith                 |\n",
      "|7032554 |Aerosmith & Run-D.M.C.                        |\n",
      "|10033592|Aerosmith?                                    |\n",
      "+--------+----------------------------------------------+\n",
      "only showing top 20 rows\n",
      "\n",
      "+--------+---------+\n",
      "|artistID|     name|\n",
      "+--------+---------+\n",
      "| 1000010|Aerosmith|\n",
      "+--------+---------+\n",
      "\n",
      "+--------+------------+\n",
      "|artistID|        name|\n",
      "+--------+------------+\n",
      "| 2082323|01 Aerosmith|\n",
      "+--------+------------+\n",
      "\n"
     ]
    }
   ],
   "source": [
    "# đưa ra những nghệ sĩ trong tên có chứa \"Aerosmith\"\n",
    "artistDF[locate(\"Aerosmith\", artistDF.name) > 0].show(20,False)\n",
    "\n",
    "# đưa ra tên của nghệ sĩ có ID là 1000010 và 2082323\n",
    "artistDF[artistDF.artistID==1000010].show()\n",
    "artistDF[artistDF.artistID==2082323].show()"
   ]
  },
  {
   "cell_type": "markdown",
   "metadata": {
    "colab_type": "text",
    "id": "dzpZ1fsdvvJA"
   },
   "source": [
    "Nhận thấy hai nghệ sĩ có ID `1000010` và `2082323` thực chất là một. Đáng lẽ chúng phải cùng trỏ đến một ID duy nhất. Do đó, ta cần sử dụng tập dữ liệu `artist_alias.txt` chứa ID của các nghệ sĩ viết sai và ID của các nghệ sĩ chuẩn."
   ]
  },
  {
   "cell_type": "code",
   "execution_count": 25,
   "metadata": {
    "colab": {
     "base_uri": "https://localhost:8080/",
     "height": 102
    },
    "colab_type": "code",
    "id": "mwR4UflyypH5",
    "outputId": "ca2c999a-f3e7-49b5-8a91-5bf50dfffec3"
   },
   "outputs": [
    {
     "data": {
      "text/plain": [
       "['1092764\\t1000311',\n",
       " '1095122\\t1000557',\n",
       " '6708070\\t1007267',\n",
       " '10088054\\t1042317',\n",
       " '1195917\\t1042317']"
      ]
     },
     "execution_count": 25,
     "metadata": {
      "tags": []
     },
     "output_type": "execute_result"
    }
   ],
   "source": [
    "# tạo RDD từ artist_alias.data\n",
    "rawArtistAlias = sc.textFile(base + \"artist_alias.txt\")\n",
    "\n",
    "rawArtistAlias.take(5)"
   ]
  },
  {
   "cell_type": "code",
   "execution_count": 26,
   "metadata": {
    "colab": {
     "base_uri": "https://localhost:8080/",
     "height": 102
    },
    "colab_type": "code",
    "id": "WOm3Xw9kzKhW",
    "outputId": "86b49c63-1739-4b1d-ed27-cc2482269ef5"
   },
   "outputs": [
    {
     "data": {
      "text/plain": [
       "[(1092764, 1000311),\n",
       " (1095122, 1000557),\n",
       " (6708070, 1007267),\n",
       " (10088054, 1042317),\n",
       " (1195917, 1042317)]"
      ]
     },
     "execution_count": 26,
     "metadata": {
      "tags": []
     },
     "output_type": "execute_result"
    }
   ],
   "source": [
    "# chia mỗi dòng bởi dấu \"\\t\"\n",
    "# loại bỏ những dòng không có ID hoặc ID không phải kiểu Int\n",
    "# đưa mỗi dòng về dạng tuple(int, int)\n",
    "artistAlias = rawArtistAlias \\\n",
    "    .map(lambda line: line.split(\"\\t\")) \\\n",
    "    .filter(lambda line: line[0] and isInt(line[0])) \\\n",
    "    .map(lambda p: (int(p[0]), int(p[1]))) \n",
    "\n",
    "artistAlias.take(5)"
   ]
  },
  {
   "cell_type": "code",
   "execution_count": 27,
   "metadata": {
    "colab": {
     "base_uri": "https://localhost:8080/",
     "height": 204
    },
    "colab_type": "code",
    "id": "z-WaT1X1Ah-s",
    "outputId": "82ab14d2-5062-475d-8c7c-71c78a31b2e5"
   },
   "outputs": [
    {
     "name": "stdout",
     "output_type": "stream",
     "text": [
      "+------------+----------+\n",
      "|misspelledID|standardID|\n",
      "+------------+----------+\n",
      "|     1092764|   1000311|\n",
      "|     1095122|   1000557|\n",
      "|     6708070|   1007267|\n",
      "|    10088054|   1042317|\n",
      "|     1195917|   1042317|\n",
      "+------------+----------+\n",
      "only showing top 5 rows\n",
      "\n"
     ]
    }
   ],
   "source": [
    "# chuyển về DataFrame và gán tên cho cột\n",
    "artistAliasDF = artistAlias.toDF((\"misspelledID\", \"standardID\"))\n",
    "\n",
    "# Lưu trữ DataFrame vào bộ nhớ cache\n",
    "artistAliasDF.cache()\n",
    "\n",
    "artistAliasDF.show(5)"
   ]
  },
  {
   "cell_type": "code",
   "execution_count": 28,
   "metadata": {
    "colab": {
     "base_uri": "https://localhost:8080/",
     "height": 204
    },
    "colab_type": "code",
    "id": "Muj5V-bW2OIy",
    "outputId": "1d1645cd-29cb-4727-cbf3-df284c9345ae"
   },
   "outputs": [
    {
     "name": "stdout",
     "output_type": "stream",
     "text": [
      "+------------+----------+\n",
      "|misspelledID|standardID|\n",
      "+------------+----------+\n",
      "+------------+----------+\n",
      "\n",
      "+------------+----------+\n",
      "|misspelledID|standardID|\n",
      "+------------+----------+\n",
      "|     2082323|   1000010|\n",
      "+------------+----------+\n",
      "\n"
     ]
    }
   ],
   "source": [
    "# hiển thị ra những dòng có misspelledID = 100010, 2082323\n",
    "artistAliasDF[artistAliasDF.misspelledID==1000010].show()\n",
    "artistAliasDF[artistAliasDF.misspelledID==2082323].show()"
   ]
  },
  {
   "cell_type": "markdown",
   "metadata": {
    "colab_type": "text",
    "id": "AvsNxgvf2xMt"
   },
   "source": [
    "Thấy rằng `1000010` là ID chuẩn còn `2082323` là ID không chính xác. Do đó nghệ sĩ có tên \"01 Aerosmith\" sẽ ánh xạ đến tên \"Aerosmith\".\n",
    "\n",
    "Ta có thể xây dựng một hàm `isStandard()` để kiểm tra xem một ID nghệ sĩ có phải là ID chuẩn hay không."
   ]
  },
  {
   "cell_type": "code",
   "execution_count": 0,
   "metadata": {
    "colab": {},
    "colab_type": "code",
    "id": "aCQS0g4X4jMh"
   },
   "outputs": [],
   "source": [
    "def isStandard(id):\n",
    "    # trả về True nếu id không nằm trong cột misspellID của artistAliasDF\n",
    "    if artistAliasDF[artistAliasDF.misspelledID == id].collect() == []:\n",
    "        return True\n",
    "    else:\n",
    "        return False"
   ]
  },
  {
   "cell_type": "code",
   "execution_count": 30,
   "metadata": {
    "colab": {
     "base_uri": "https://localhost:8080/",
     "height": 34
    },
    "colab_type": "code",
    "id": "8AYLPejv5T-H",
    "outputId": "0bd06aca-0f7b-4052-d201-fbb36efa8504"
   },
   "outputs": [
    {
     "data": {
      "text/plain": [
       "True"
      ]
     },
     "execution_count": 30,
     "metadata": {
      "tags": []
     },
     "output_type": "execute_result"
    }
   ],
   "source": [
    "# kiểm tra xem id ứng với nghệ sĩ \"Green Day - Oasis - Eminem - Aerosmith\" có phải ID chuẩn không\n",
    "name1 = \"Green Day - Oasis - Eminem - Aerosmith\"\n",
    "id1 = artistDF[artistDF.name == name1].first().artistID\n",
    "isStandard(id1)"
   ]
  },
  {
   "cell_type": "code",
   "execution_count": 31,
   "metadata": {
    "colab": {
     "base_uri": "https://localhost:8080/",
     "height": 34
    },
    "colab_type": "code",
    "id": "yDWg329G62ah",
    "outputId": "95969eac-10a1-421a-c91a-e7345311a655"
   },
   "outputs": [
    {
     "name": "stdout",
     "output_type": "stream",
     "text": [
      "1  user đã nghe  Green Day - Oasis - Eminem - Aerosmith\n"
     ]
    }
   ],
   "source": [
    "# In ra xem có bao nhiều user nghe nghệ sĩ có tên là \"Green Day - Oasis - Eminem - Aerosmith\"\n",
    "print(userArtistDF[userArtistDF.artistID==id1].count(), \" user đã nghe \", name1)"
   ]
  },
  {
   "cell_type": "markdown",
   "metadata": {
    "colab_type": "text",
    "id": "CqLHZjbLFiwx"
   },
   "source": [
    "Việc có những ID hay là tên của nghệ sĩ không chuẩn sẽ dẫn đến những truy vấn không thực sự chính xác. Để khắc phục điều này thì ta sẽ thay thế những ID không chuẩn bằng ID chuẩn và tính toán lại các thống kê mô tả cơ bản.\n",
    "\n",
    "Đầu tiên ta xây dựng một từ điển mà nó ánh xạ từng ID không chuẩn sang ID chuẩn."
   ]
  },
  {
   "cell_type": "code",
   "execution_count": 0,
   "metadata": {
    "colab": {},
    "colab_type": "code",
    "id": "Maju2aAiIuP5"
   },
   "outputs": [],
   "source": [
    "# chuyển DataFrame về RDD bằng <dataframe>.rdd.map\n",
    "# thu thập kết quả cho driver như một dictionary\n",
    "artistAlias = artistAliasDF \\\n",
    "    .rdd.map(lambda row: (row.misspelledID, row.standardID)) \\\n",
    "    .collectAsMap()"
   ]
  },
  {
   "cell_type": "code",
   "execution_count": 33,
   "metadata": {
    "colab": {
     "base_uri": "https://localhost:8080/",
     "height": 221
    },
    "colab_type": "code",
    "id": "sDXz_ak9NoJK",
    "outputId": "57de5905-d8da-41ec-9218-242757df7a32"
   },
   "outputs": [
    {
     "name": "stdout",
     "output_type": "stream",
     "text": [
      "+-------+--------+---------+\n",
      "| userID|artistID|playCount|\n",
      "+-------+--------+---------+\n",
      "|1000002|       1|       55|\n",
      "|1000002| 1000006|       33|\n",
      "|1000002| 1000007|        8|\n",
      "|1000002| 1000009|      144|\n",
      "|1000002| 1000010|      314|\n",
      "+-------+--------+---------+\n",
      "only showing top 5 rows\n",
      "\n",
      "thời gian thực thi là 1.989177 giây\n"
     ]
    }
   ],
   "source": [
    "# hàm thay thế ID sai trong userArtistDF\n",
    "def replaceMisspelledIDs(fields):\n",
    "    # input: (userID, artistID, playCount)\n",
    "    # nếu ID có trong trong từ điển (misspelledID) thì ánh xạ nó về standardID, nếu không thì giữ nguyên.\n",
    "    finalArtistID = artistAlias.get(fields[1], fields[1])\n",
    "    return (fields[0], finalArtistID, fields[2])\n",
    "\n",
    "# đặt mốc thời gian để xác định thời gian xử lý\n",
    "t0 = time()\n",
    "\n",
    "# tạo DataFrame mới từ DataFrame cũ đã thay thế misspelledID\n",
    "newUserArtistDF = userArtistDF \\\n",
    "    .rdd.map(replaceMisspelledIDs) \\\n",
    "    .toDF((\"userID\", \"artistID\", \"playCount\"))\n",
    "\n",
    "newUserArtistDF.show(5)\n",
    "\n",
    "t1 = time()\n",
    "\n",
    "print('thời gian thực thi là %f giây' %(t1 - t0))"
   ]
  },
  {
   "cell_type": "markdown",
   "metadata": {
    "colab_type": "text",
    "id": "owAxNV-GglGt"
   },
   "source": [
    "Ta có thể cải thiện thời gian thực thi này bằng cách sử dụng [*broadcast variable*](https://spark.apache.org/docs/latest/rdd-programming-guide.html#broadcast-variables). Broadcast variable cho phép lập trình viên giữ một biến chỉ đọc lưu trữ trong bộ nhớ cache trên **mỗi máy** thay vì gửi một bản sao của nó cùng với các tác vụ (tasks)."
   ]
  },
  {
   "cell_type": "code",
   "execution_count": 34,
   "metadata": {
    "colab": {
     "base_uri": "https://localhost:8080/",
     "height": 238
    },
    "colab_type": "code",
    "id": "AMvDWTBmty20",
    "outputId": "bc2b48f2-231f-4ec6-d30a-993c88c3e823"
   },
   "outputs": [
    {
     "name": "stdout",
     "output_type": "stream",
     "text": [
      "+-------+--------+---------+\n",
      "| userID|artistID|playCount|\n",
      "+-------+--------+---------+\n",
      "|1000002|       1|       55|\n",
      "|1000002| 1000006|       33|\n",
      "|1000002| 1000007|        8|\n",
      "|1000002| 1000009|      144|\n",
      "|1000002| 1000010|      314|\n",
      "+-------+--------+---------+\n",
      "only showing top 5 rows\n",
      "\n",
      "thời gian thực thi là 0.629630 giây\n"
     ]
    },
    {
     "data": {
      "text/plain": [
       "DataFrame[userID: bigint, artistID: bigint, playCount: bigint]"
      ]
     },
     "execution_count": 34,
     "metadata": {
      "tags": []
     },
     "output_type": "execute_result"
    }
   ],
   "source": [
    "# tạo broadcast variable cho artistAlias\n",
    "bArtistAlias = sc.broadcast(artistAlias)\n",
    "\n",
    "def replaceMisspelledIDs(fields):\n",
    "    finalArtistID = bArtistAlias.value.get(fields[1], fields[1]) # giá trị của broadcast variable được truy cập bằng phương thức value\n",
    "    return (fields[0], finalArtistID, fields[2])\n",
    "\n",
    "t0 = time()\n",
    "\n",
    "newUserArtistDF = userArtistDF \\\n",
    "    .rdd.map(replaceMisspelledIDs) \\\n",
    "    .toDF((\"userID\", \"artistID\", \"playCount\"))\n",
    "\n",
    "newUserArtistDF.show(5)\n",
    "\n",
    "t1 = time()\n",
    "\n",
    "print('thời gian thực thi là %f giây' %(t1 - t0))\n",
    "\n",
    "# Lưu trữ DataFrame vào bộ nhớ cache\n",
    "newUserArtistDF.cache()"
   ]
  },
  {
   "cell_type": "markdown",
   "metadata": {
    "colab_type": "text",
    "id": "oMZB_2JQwsMH"
   },
   "source": [
    "Kết quả được cải thiện đáng kể, rõ ràng việc tạo broadcast variable chỉ hữu ích khi các tác vụ (tasks) qua nhiều giai đoạn cần dùng cùng một dữ liệu.\n",
    "\n",
    "Bây giờ, DataFrame đã chứa dữ liệu chuẩn. Ta có thể sử dụng nó để thực hiện lại những truy vấn thống kê trước đó"
   ]
  },
  {
   "cell_type": "code",
   "execution_count": 35,
   "metadata": {
    "colab": {
     "base_uri": "https://localhost:8080/",
     "height": 34
    },
    "colab_type": "code",
    "id": "VRqJ2w_hzPfK",
    "outputId": "a5e1fdc0-5bef-4aeb-bb2d-08ce4a8d1c52"
   },
   "outputs": [
    {
     "name": "stdout",
     "output_type": "stream",
     "text": [
      "Tổng số nghệ sĩ:  1568126\n"
     ]
    }
   ],
   "source": [
    "# Đếm số nghệ sĩ khác nhau trong dữ liệu mới\n",
    "uniqueArtists = newUserArtistDF.select(\"artistID\").distinct().count()\n",
    "print(\"Tổng số nghệ sĩ: \", uniqueArtists)"
   ]
  },
  {
   "cell_type": "markdown",
   "metadata": {
    "colab_type": "text",
    "id": "a9vob5AlzS1f"
   },
   "source": [
    "Nhận thấy kết quả này ít hơn so với kết quả ban đầu từ tập dữ liệu cũ (1631028). Điều này là hoàn toàn hợp lý.\n",
    "\n",
    "Giờ chúng ta đã có một vài thông tin cơ bản về dữ liệu. Trong phần tiếp theo, chúng tôi sẽ nghiên cứu để xây dựng mô hình thống kê."
   ]
  },
  {
   "cell_type": "markdown",
   "metadata": {
    "colab_type": "text",
    "id": "mxtAq2Q33uuZ"
   },
   "source": [
    "# **2. Xây dựng mô hình để đưa ra các đề xuất**\n"
   ]
  },
  {
   "cell_type": "markdown",
   "metadata": {
    "colab_type": "text",
    "id": "SNzuNd764Zf6"
   },
   "source": [
    "## **2.1 Giới thiệu về hệ thống đề xuất**"
   ]
  },
  {
   "cell_type": "markdown",
   "metadata": {
    "colab_type": "text",
    "id": "PphdRy-Npw43"
   },
   "source": [
    "Trong một ứng dụng hệ thống đề xuất, có hai loại thực thể là người dùng (`users`) và mặt hàng (`items`). Người dùng có những ưu tiên cho một số mặt hàng, và những ưu tiên này phải có từ dữ liệu. Bản thân dữ liệu được biểu biểu dưới dạng một ma trận ưu tiên (`preference matrix`) $A$, với mỗi cặp người dùng-mặt hàng, có một giá trị thể hiện mức độ ưu tiên của người dùng với mặt hàng đó. Ví dụ ma trận ưu tiên 5 người dùng và k mặt hàng:\n",
    "\n",
    "|    | IT1 | IT2 | IT3 | ... | ITk |\n",
    "|----|-----|-----|-----|-----|-----|\n",
    "| U1 | 1   |     | 5   | ... | 3   |\n",
    "| U2 |     | 2   | 2   | ... | 2   |\n",
    "| U3 | 5   |     | 3   | ... |     |\n",
    "| U4 | 3   | 3   |     | ... | 4   |\n",
    "| U5 |     | 1   |     | ... |     |\n",
    "\n",
    "Giá trị của hàng i, cột j biểu thị sự yêu thích của người dùng i đối với mặt hàng j, lấy ví dụ giá trị 1 (dislike), giá trị 5 (love). Những ô trống tức là không có thông tin về sở thích của người dùng với mặt hàng đó. Mục tiêu của hệ thống đề xuất là dự đoán những ô trống này. Có 2 cách tiếp cận:\n",
    "\n",
    "\n",
    "*   Xem xét sự giống nhau dựa trên các thuộc tính của mặt hàng: nhãn hiệu, giá cả, danh mục. Ví tụ IT2 khá giống IT3, U5 không thích IT2 nên có thể họ cũng không thích IT3.\n",
    "*   Quan sát xu hướng đánh giá của các người dùng cho các sản phẩm. Ví dụ những người dùng không thích IT2 có xu hướng không thích IT3. Do đó, có thể dự đoán U5 cũng không thích IT3.\n",
    "\n",
    "\n",
    "\n"
   ]
  },
  {
   "cell_type": "markdown",
   "metadata": {
    "colab_type": "text",
    "id": "HHp55h4pq0oN"
   },
   "source": [
    "## **2.2 Collaborative-Filtering và ví dụ của Matrix Factorization**"
   ]
  },
  {
   "cell_type": "markdown",
   "metadata": {
    "colab_type": "text",
    "id": "U3zl3x5PlrRO"
   },
   "source": [
    "`Collaborative-Filtering` là một kỹ thuật được sử dụng trong hệ thống đề xuất. Nó tập trung vào mối quan hệ giữa người dùng và mặt hàng, trong bài toán này, các nghệ sĩ giữ vai trò là mặt hàng. Độ tương tự của các mặt hàng được xác định bởi sự giống nhau về xếp hạng của các mặt hàng đó bởi những người dùng đã xếp hạng cả hai mặt hàng.\n",
    "\n",
    "Ta sẽ nghiên cứu một thành viên trong lớp các thuật toán được gọi là mô hình `latent-factor`.\n",
    "\n",
    "Ban đầu ta có $n$ người dùng và $m$ mặt hàng (trong bài này là nghệ sĩ) và `playCount` tương ứng (xếp hạng ngầm - implicit rating). Ta sẽ xây dựng được ma trận $R$ có $n$ hàng $m$ cột. Mỗi ô $(u,i)$ trong ma trận có giá trị là xếp hạng (rating) của người dùng $u$ cho mặt hàng $i$.\n",
    "\n",
    "Ma trận $R$ có nhiều mục bị thiếu. Chúng ta sẽ sử dụng mô hình `matrix factorization` để điền những mục này."
   ]
  },
  {
   "cell_type": "markdown",
   "metadata": {
    "colab_type": "text",
    "id": "CJ1KaRys9Xtx"
   },
   "source": [
    "Ví dụ: cho ma trận 5x5 như bên dưới. Ta muốn xấp xỉ ma trận thành hai ma trận nhỏ hơn $X$ và $Y$."
   ]
  },
  {
   "cell_type": "markdown",
   "metadata": {
    "colab_type": "text",
    "id": "Tz0FzxHJsqL6"
   },
   "source": [
    "$$ M = \\begin{bmatrix}\n",
    "5 &2 &4  &4  &3 \\\\ \n",
    "3 &1  &2  &4  &1 \\\\ \n",
    "2 &  &3  &1  &4 \\\\ \n",
    "2 &5  &4  &3  &5 \\\\ \n",
    "4 &4  &5  &4  & \n",
    "\\end{bmatrix}\n",
    "\\approx M' = \\begin{bmatrix}\n",
    "x_{11} &x_{12} \\\\ \n",
    "x_{21} &x_{22} \\\\ \n",
    "x_{31} &x_{32} \\\\ \n",
    "x_{41} &x_{42} \\\\ \n",
    "x_{51} &x_{52} \n",
    "\\end{bmatrix}\n",
    "\\times\n",
    "\\begin{bmatrix}\n",
    "y_{11} &y_{12}  &y_{13}  &y_{14}  &y_{15} \\\\ \n",
    "y_{21} &y_{22}  &y_{23}  &y_{24}  &y_{25} \n",
    "\\end{bmatrix} $$"
   ]
  },
  {
   "cell_type": "markdown",
   "metadata": {
    "colab_type": "text",
    "id": "zrqG3AbZ-uR4"
   },
   "source": [
    "$M'$ là một xấp xỉ càng gần $M$ càng tốt. Sai số $M$ và $M'$ được tính bằng tổng bình phương sai số của các phần tử không trống trong $M$ và các phần tử tương ứng trong $M'$. Trong $M'$ không có phần tử trống, do đó để xem mức độ người dùng i ưa thích mặt hàng j ta chỉ cần lấy ra giá trị $M{'_{i,j}}$.\n",
    "\n",
    "Vấn đề là làm sao tính được $X$ và $Y$. Ta không thể tính cùng lúc $X$ và $Y$ đều tốt nhất nhưng nếu biết $Y$ ta có thể tính $X$ tốt nhất và ngược lại. Do đó, ta khởi tạo những giá trị ban đầu cho $X$ và $Y$, ta tính $X$ tốt nhất theo $Y$ và sau đó tính $Y$ tốt nhất theo $X$ mới. Lặp lại quá trình này cho đến khi sai số $X \\times Y$ tới M là hội tụ.\n",
    "\n",
    "Với ví dụ trên, ta khởi tạo giá trị của $X$ và $Y$ như sau:"
   ]
  },
  {
   "cell_type": "markdown",
   "metadata": {
    "colab_type": "text",
    "id": "muBOX8jBvs0m"
   },
   "source": [
    "$$ M' = X \\times Y = \\begin{bmatrix}\n",
    "1 &1 \\\\ \n",
    "1 &1 \\\\ \n",
    "1 &1 \\\\ \n",
    "1 &1 \\\\ \n",
    "1 &1 \n",
    "\\end{bmatrix}\n",
    "\\times \\begin{bmatrix}\n",
    "1 &1 &1 &1 &1 \\\\\n",
    "1 &1 &1 &1 &1\n",
    "\\end{bmatrix}\n",
    "= \\begin{bmatrix}\n",
    "2 &2 &2 &2 &2 \\\\\n",
    "2 &2 &2 &2 &2 \\\\\n",
    "2 &2 &2 &2 &2 \\\\\n",
    "2 &2 &2 &2 &2 \\\\\n",
    "2 &2 &2 &2 &2\n",
    "\\end{bmatrix} $$"
   ]
  },
  {
   "cell_type": "markdown",
   "metadata": {
    "colab_type": "text",
    "id": "qdyczP6iuyoe"
   },
   "source": [
    "Trong lần lặp đầu tiên, tính trung bình bình phương sai số (RMSE - Root Mean Square Error) giữa $XY$ và $M$ (lưu ý: ô nào trống bỏ qua): \n",
    "\n",
    "$$RMSE = \\sqrt {\\frac{{{{\\left( {5 - 2} \\right)}^2} + {{\\left( {2 - 2} \\right)}^2} + ... + {{\\left( {5 - 2} \\right)}^2} + {{\\left( {4 - 2} \\right)}^2}}}{{23}}}  = \\sqrt {\\frac{{75}}{{23}}}  = 1.806$$\n",
    "\n",
    "23 là số ô không trống trong $M$."
   ]
  },
  {
   "cell_type": "markdown",
   "metadata": {
    "colab_type": "text",
    "id": "fp29Q8BhC04M"
   },
   "source": [
    "Tiếp theo, với $Y$ đã cho, ta tính $X$ bằng cách tìm giá trị tốt nhất cho ${X_{11}}$."
   ]
  },
  {
   "cell_type": "markdown",
   "metadata": {
    "colab_type": "text",
    "id": "PEUQgBr9xkRF"
   },
   "source": [
    "$$ M' = X \\times Y = \\begin{bmatrix}\n",
    "x &1 \\\\ \n",
    "1 &1 \\\\ \n",
    "1 &1 \\\\ \n",
    "1 &1 \\\\ \n",
    "1 &1 \n",
    "\\end{bmatrix}\n",
    "\\times \\begin{bmatrix}\n",
    "1 &1 &1 &1 &1 \\\\\n",
    "1 &1 &1 &1 &1\n",
    "\\end{bmatrix}\n",
    "= \\begin{bmatrix}\n",
    "x+1 &x+1 &x+1 &x+1 &x+1 \\\\\n",
    "2 &2 &2 &2 &2 \\\\\n",
    "2 &2 &2 &2 &2 \\\\\n",
    "2 &2 &2 &2 &2 \\\\\n",
    "2 &2 &2 &2 &2\n",
    "\\end{bmatrix} $$"
   ]
  },
  {
   "cell_type": "markdown",
   "metadata": {
    "colab_type": "text",
    "id": "lttASbqnyCqm"
   },
   "source": [
    "Bây giờ để giảm thiểu $RMSE$, ta sẽ giảm thiểu sai số ở hàng đầu tiên, bằng cách đạo hàm ta sẽ tìm được $x = 2.6$\n",
    "\n",
    "$$ (5 - (x + 1))^{2} + (2 - (x + 1))^{2} + (4 - (x + 1))^{2} + (4 - (x + 1))^{2} + (3 - (x + 1))^{2} $$"
   ]
  },
  {
   "cell_type": "markdown",
   "metadata": {
    "colab_type": "text",
    "id": "UQIgsD98y8Zk"
   },
   "source": [
    "Với giá trị mới của $X$, ta có thể tính giá trị tốt nhất cho $Y$\n",
    "\n",
    "$$  M' = X \\times Y = \\begin{bmatrix}\n",
    "2.6 &1 \\\\ \n",
    "1 &1 \\\\ \n",
    "1 &1 \\\\ \n",
    "1 &1 \\\\ \n",
    "1 &1 \n",
    "\\end{bmatrix}\n",
    "\\times \\begin{bmatrix}\n",
    "y &1 &1 &1 &1 \\\\\n",
    "1 &1 &1 &1 &1\n",
    "\\end{bmatrix}\n",
    "= \\begin{bmatrix}\n",
    "3.6 &3.6 &3.6 &3.6 &3.6 \\\\\n",
    "2 &2 &2 &2 &2 \\\\\n",
    "2 &2 &2 &2 &2 \\\\\n",
    "2 &2 &2 &2 &2 \\\\\n",
    "2 &2 &2 &2 &2\n",
    "\\end{bmatrix} $$"
   ]
  },
  {
   "cell_type": "markdown",
   "metadata": {
    "colab_type": "text",
    "id": "3_EluBCLJMH3"
   },
   "source": [
    "Thực hiện tương tự, ta sẽ tìm được $y=1.617$. Sau đó, ta có thể kiểm tra nếu $RMSE$ không hội tụ, ta tiếp tục cập nhật $X$ và $Y$ và ngược lại. Trong ví dụ này, ta chỉ cập nhật một phần tử của mỗi ma trận trong mỗi lần lặp. Thực tế chúng ta có thể cập nhật một hàng đầy đủ hoặc một ma trận đầy đủ trong một lần."
   ]
  },
  {
   "cell_type": "markdown",
   "metadata": {
    "colab_type": "text",
    "id": "yV2ZGIXUrP6R"
   },
   "source": [
    "## **2.3 Matrix Factorization và thuật toán ALS trên một máy**\n",
    "\n",
    "Nếu chúng ta chọn $k$ latent features và mô tả mỗi người dùng $u$ với một vector $k$-chiều $x_{u}$, và mỗi mặt hàng $i$ với một vector $k$-chiều $y_{i}$.\n",
    "\n",
    "Sau đó, để dự đoán xếp hạng của người dùng $u$ cho mặt hàng $i$, ta tính: ${r_{ui}} \\approx x_u^T{y_i}$\n",
    "\n",
    "Có $n$ người dùng, sẽ có $n$ vector ${x_1},...,{x_n}$. Có $m$ mặt hàng, sẽ có $m$ vector ${y_1},...,{y_m}$. Ta định nghĩa ma trận $X$ và $Y$ như sau:"
   ]
  },
  {
   "cell_type": "markdown",
   "metadata": {
    "colab_type": "text",
    "id": "Ep2M9x_LzgU8"
   },
   "source": [
    "$$X = \\begin{bmatrix}\n",
    "| & &| \\\\ \n",
    "x_{1} &... &x_{n} \\\\ \n",
    "| & &|\n",
    "\\end{bmatrix}$$\n",
    "$$Y = \\begin{bmatrix}\n",
    "| & &| \\\\ \n",
    "y_{1} &... &y_{n} \\\\ \n",
    "| & &|\n",
    "\\end{bmatrix}$$"
   ]
  },
  {
   "cell_type": "markdown",
   "metadata": {
    "colab_type": "text",
    "id": "8r52QpaOTObk"
   },
   "source": [
    "Mục tiêu là phải ước tính ma trận $R \\approx {X^T}Y$ hay bài toán đưa về tìm $X$ và $Y$ tốt nhất để tối ưu hàm mục tiêu dưới đây:"
   ]
  },
  {
   "cell_type": "markdown",
   "metadata": {
    "colab_type": "text",
    "id": "aYavzUuN0YcB"
   },
   "source": [
    "$$\\mathop {\\min }\\limits_{X,Y} \\sum\\limits_{{r_{ui}}observed} {{{\\left( {{r_{ui}} - x_u^T{y_i}} \\right)}^2} + \\lambda \\left( {\\sum\\limits_u {{{\\left\\| {{x_u}} \\right\\|}^2} + \\sum\\limits_i {{{\\left\\| {{y_i}} \\right\\|}^2}} } } \\right)}$$"
   ]
  },
  {
   "cell_type": "markdown",
   "metadata": {
    "colab_type": "text",
    "id": "lQXZvwtwa39G"
   },
   "source": [
    "Cách làm là ta sửa $Y$ và tối ưu $X$, sau đó sửa $X$ và tối ưu $Y$, lặp lại cho đến khi hội tụ. Đây được gọi là thuật toán **ALS (Alternating Least Squares)**. Dưới đây là giả code của thuật toán:\n",
    "\n",
    "Khởi tạo $X$, $Y$\n",
    "\n",
    "**while** (không hội tụ) **do**\n",
    "\n",
    "**for** $u = 1...n$ **do**\n",
    "\n",
    "${x_u} = {\\left( {\\sum\\nolimits_{{r_u}i \\in {r_{u*}}} {{y_i}y_i^T + \\lambda {I_k}} } \\right)^{ - 1}}\\sum\\nolimits_{{r_u}i \\in {r_{u*}}} {{r_{ui}}{y_i}} $\n",
    "\n",
    "**end for**\n",
    "\n",
    "**for** $u = 1...n$ **do**\n",
    "\n",
    "${y_i} = {\\left( {\\sum\\nolimits_{{r_u}i \\in {r_{*i}}} {{x_u}x_u^T + \\lambda {I_k}} } \\right)^{ - 1}}\\sum\\nolimits_{{r_u}i \\in {r_{*i}}} {{r_{ui}}{x_u}} $\n",
    "\n",
    "**end for**\n",
    "\n",
    "**end while**"
   ]
  },
  {
   "cell_type": "markdown",
   "metadata": {
    "colab_type": "text",
    "id": "tq4-0SGHycAE"
   },
   "source": [
    "## **2.4 Thuật toán ALS song song trên Spark**\n",
    "\n",
    "Ta có thể tính toán thuật toán ALS song song trên Spark bằng cách sau:\n",
    "\n",
    "Dữ liệu đầu vào xếp hạng (ratings) và tham số ($X$ và $Y$) được lưu trữ trong Spark RDD. Cụ thể, các xếp hạng được lưu trữ dưới dạng RDD của một bộ ba\n",
    "\n",
    "Ratings: RDD$\\left( {\\left( {u,i,{r_{ui}}} \\right),...} \\right)$\n",
    "\n",
    "Ma trận $X$ và $Y$ được lưu trữ dưới dạng RDD của vectors:\n",
    "\n",
    "$X$: RDD$\\left( {{x_1},...,{x_n}} \\right)$\n",
    "\n",
    "$Y$: RDD$\\left( {{y_1},...,{y_m}} \\right)$\n",
    "\n",
    "Biểu thức tính $x_u$:\n",
    "\n",
    "${x_u} = {\\left( {\\sum\\nolimits_{{r_u}i \\in {r_{u*}}} {{y_i}y_i^T + \\lambda {I_k}} } \\right)^{ - 1}}\\sum\\nolimits_{{r_u}i \\in {r_{u*}}} {{r_{ui}}{y_i}}$\n",
    "\n",
    "Gọi phần tổng đầu tiên là *part A*, phần tổng thứ hai là *part B*. Để tính toán các part như vậy song song, ta có thể thực hiện với giả code sau:\n",
    "\n",
    "*   `join` RDD Ratings với RDD ma trận $Y$ bằng key $i$ (items)\n",
    "*   `map` để tính toán ${y_i}y_i^T$ và phát ra bằng key $u$ (user)\n",
    "*   `reduceByKey` $u$ (user) để tính toán $\\sum\\nolimits_{{r_u}i \\in {r_{u*}}} {{y_i}y_i^T}$\n",
    "*   Đảo ngược\n",
    "*   `reduceByKey` $u$ (user) để tính toán $\\sum\\nolimits_{{r_u}i \\in {r_{u*}}} {{r_{ui}}{y_i}}$\n",
    "\n",
    "Tương tự, ta cũng tính toán được $y_i$\n",
    "\n",
    "\n",
    "\n"
   ]
  },
  {
   "cell_type": "markdown",
   "metadata": {
    "colab_type": "text",
    "id": "YZavGoj3ZdUX"
   },
   "source": [
    "# **3. Hệ thống đề xuất âm nhạc**"
   ]
  },
  {
   "cell_type": "markdown",
   "metadata": {
    "colab_type": "text",
    "id": "Hf-VhrSIgdz8"
   },
   "source": [
    "Trong phần này, chúng ta sẽ xây dựng hệ thống gợi ý âm nhạc cho người dùng.\n"
   ]
  },
  {
   "cell_type": "markdown",
   "metadata": {
    "colab_type": "text",
    "id": "ymbKEvE9hVPn"
   },
   "source": [
    "## **3.1 Làm sạch dữ liệu**"
   ]
  },
  {
   "cell_type": "markdown",
   "metadata": {
    "colab_type": "text",
    "id": "9ktdmMTnhh3c"
   },
   "source": [
    "Làm tương tự phần 1, chỉ khác rằng đầu ra của dữ liệu sau khi làm sạch để ở RDD."
   ]
  },
  {
   "cell_type": "code",
   "execution_count": 36,
   "metadata": {
    "colab": {
     "base_uri": "https://localhost:8080/",
     "height": 102
    },
    "colab_type": "code",
    "id": "1LaaIYjkjt1l",
    "outputId": "edc099f3-ecd7-4aab-8893-6d5090ce095e"
   },
   "outputs": [
    {
     "data": {
      "text/plain": [
       "['1092764\\t1000311',\n",
       " '1095122\\t1000557',\n",
       " '6708070\\t1007267',\n",
       " '10088054\\t1042317',\n",
       " '1195917\\t1042317']"
      ]
     },
     "execution_count": 36,
     "metadata": {
      "tags": []
     },
     "output_type": "execute_result"
    }
   ],
   "source": [
    "# tạo RDD từ artist_alias.txt\n",
    "rawArtistAlias = sc.textFile(base + \"artist_alias.txt\")\n",
    "\n",
    "rawArtistAlias.take(5)"
   ]
  },
  {
   "cell_type": "code",
   "execution_count": 0,
   "metadata": {
    "colab": {},
    "colab_type": "code",
    "id": "_uyyO7DshllX"
   },
   "outputs": [],
   "source": [
    "# hàm isInt() kiểm tra 1 đầu vào có phải kiểu Int không\n",
    "def isInt(s):\n",
    "    try:\n",
    "        int(s)\n",
    "        return True\n",
    "    except ValueError:\n",
    "        return False"
   ]
  },
  {
   "cell_type": "code",
   "execution_count": 0,
   "metadata": {
    "colab": {},
    "colab_type": "code",
    "id": "pgj0eXv-klsw"
   },
   "outputs": [],
   "source": [
    "# chia từng dòng trong RDD gốc bởi dấu \"\\t\"\n",
    "# loại bỏ những dòng không có ID hoặc ID không phải kiểu Int\n",
    "# đưa về tuple(int, int)\n",
    "# lưu kết quả như một dictionary\n",
    "artistAlias = rawArtistAlias \\\n",
    "    .map(lambda line: line.split(\"\\t\")) \\\n",
    "    .filter(lambda line: line[0] and isInt(line[0])) \\\n",
    "    .map(lambda p: (int(p[0]), int(p[1]))) \\\n",
    "    .collectAsMap()"
   ]
  },
  {
   "cell_type": "code",
   "execution_count": 39,
   "metadata": {
    "colab": {
     "base_uri": "https://localhost:8080/",
     "height": 102
    },
    "colab_type": "code",
    "id": "nq2aBfDE4HON",
    "outputId": "d7a380fb-5586-416a-8dc9-398df595315d"
   },
   "outputs": [
    {
     "data": {
      "text/plain": [
       "['1000002 1 55',\n",
       " '1000002 1000006 33',\n",
       " '1000002 1000007 8',\n",
       " '1000002 1000009 144',\n",
       " '1000002 1000010 314']"
      ]
     },
     "execution_count": 39,
     "metadata": {
      "tags": []
     },
     "output_type": "execute_result"
    }
   ],
   "source": [
    "# tạo RDD từ user_artist_data.txt\n",
    "rawUserArtistData = sc.textFile(base + \"user_artist_data.txt\")\n",
    "\n",
    "rawUserArtistData.take(5)"
   ]
  },
  {
   "cell_type": "code",
   "execution_count": 40,
   "metadata": {
    "colab": {
     "base_uri": "https://localhost:8080/",
     "height": 102
    },
    "colab_type": "code",
    "id": "TPDsO7_vlysO",
    "outputId": "d5434796-f543-4c7d-b449-d11204a8e03e"
   },
   "outputs": [
    {
     "data": {
      "text/plain": [
       "[(1000002, 1, 55),\n",
       " (1000002, 1000006, 33),\n",
       " (1000002, 1000007, 8),\n",
       " (1000002, 1000009, 144),\n",
       " (1000002, 1000010, 314)]"
      ]
     },
     "execution_count": 40,
     "metadata": {
      "tags": []
     },
     "output_type": "execute_result"
    }
   ],
   "source": [
    "# tạo broadcast variable cho artistAlias\n",
    "bArtistAlias = sc.broadcast(artistAlias)\n",
    "\n",
    "# hàm thay thế ID sai trong rawUserArtistData\n",
    "def replaceMisspelledIDs(line):\n",
    "    [userID, artistID, playCount] = map(lambda p: int(p), line.split(\" \"))\n",
    "    finalArtistID = bArtistAlias.value.get(artistID, artistID)\n",
    "    return (userID, finalArtistID, playCount)\n",
    "\n",
    "# thay thế ID sai trong rawUserArtistData và lưu thành RDD mới\n",
    "userArtistDataRDD = rawUserArtistData.map(replaceMisspelledIDs)\n",
    "\n",
    "userArtistDataRDD.take(5)"
   ]
  },
  {
   "cell_type": "code",
   "execution_count": 41,
   "metadata": {
    "colab": {
     "base_uri": "https://localhost:8080/",
     "height": 102
    },
    "colab_type": "code",
    "id": "4tFuXqHPpgr6",
    "outputId": "988cbb84-0c2a-468f-aabc-f036426b10ba"
   },
   "outputs": [
    {
     "data": {
      "text/plain": [
       "['1134999\\t06Crazy Life',\n",
       " '6821360\\tPang Nakarin',\n",
       " '10113088\\tTerfel, Bartoli- Mozart: Don',\n",
       " '10151459\\tThe Flaming Sidebur',\n",
       " '6826647\\tBodenstandig 3000']"
      ]
     },
     "execution_count": 41,
     "metadata": {
      "tags": []
     },
     "output_type": "execute_result"
    }
   ],
   "source": [
    "# tạo RDD từ artist_data.txt\n",
    "rawArtistData = sc.textFile(base + \"artist_data.txt\")\n",
    "\n",
    "rawArtistData.take(5)"
   ]
  },
  {
   "cell_type": "code",
   "execution_count": 42,
   "metadata": {
    "colab": {
     "base_uri": "https://localhost:8080/",
     "height": 102
    },
    "colab_type": "code",
    "id": "dWFl8TWiuXTW",
    "outputId": "be9e99b5-5801-40f6-d644-f5fba83f76be"
   },
   "outputs": [
    {
     "data": {
      "text/plain": [
       "[(1134999, '06Crazy Life'),\n",
       " (6821360, 'Pang Nakarin'),\n",
       " (10113088, 'Terfel, Bartoli- Mozart: Don'),\n",
       " (10151459, 'The Flaming Sidebur'),\n",
       " (6826647, 'Bodenstandig 3000')]"
      ]
     },
     "execution_count": 42,
     "metadata": {
      "tags": []
     },
     "output_type": "execute_result"
    }
   ],
   "source": [
    "# chia từng dòng trong RDD gốc bởi dấu \"\\t\"\n",
    "# loại bỏ những dòng không có ID hoặc ID không phải kiểu Int\n",
    "# đưa về tuple(int, str)\n",
    "artistDataRDD = rawArtistData \\\n",
    "    .map(lambda line: line.split('\\t')) \\\n",
    "    .filter(lambda line: line[0] and isInt(line[0])) \\\n",
    "    .map(lambda p: (int(p[0]),p[1].strip())) \\\n",
    "\n",
    "artistDataRDD.take(5)"
   ]
  },
  {
   "cell_type": "markdown",
   "metadata": {
    "colab_type": "text",
    "id": "VMCbw0txjJpl"
   },
   "source": [
    "## **3.2 Training mô hình**"
   ]
  },
  {
   "cell_type": "markdown",
   "metadata": {
    "colab_type": "text",
    "id": "uyy8mNZYv08g"
   },
   "source": [
    "**Chú ý**: Các khái niệm sử dụng trong bài:\n",
    "user $\\Leftrightarrow$ người dùng: cụ thể là `userID`\n",
    "\n",
    "item, product $\\Leftrightarrow$ mặt hàng, sản phẩm: cụ thể là `artistID`, nghệ sĩ\n",
    "\n",
    "rating $\\Leftrightarrow$ xếp hạng: cụ thể là `playCount`\n",
    "\n",
    "Để huấn luyện mô hình bằng `ALS`, ta phải sử dụng ma trận ưu tiên (preference matrix) như một đâu vào. MLlib sử dụng class `Rating` để hỗ trợ xây dựng ma trận ưu tiên phân tán."
   ]
  },
  {
   "cell_type": "code",
   "execution_count": 0,
   "metadata": {
    "colab": {},
    "colab_type": "code",
    "id": "uInIJh7wxg4m"
   },
   "outputs": [],
   "source": [
    "from pyspark.mllib.recommendation import ALS, MatrixFactorizationModel, Rating"
   ]
  },
  {
   "cell_type": "code",
   "execution_count": 44,
   "metadata": {
    "colab": {
     "base_uri": "https://localhost:8080/",
     "height": 102
    },
    "colab_type": "code",
    "id": "ZuoVUXoBxjOP",
    "outputId": "76a5707e-26da-44f3-99b0-cd50b183a9b2"
   },
   "outputs": [
    {
     "data": {
      "text/plain": [
       "[Rating(user=1000002, product=1, rating=55.0),\n",
       " Rating(user=1000002, product=1000006, rating=33.0),\n",
       " Rating(user=1000002, product=1000007, rating=8.0),\n",
       " Rating(user=1000002, product=1000009, rating=144.0),\n",
       " Rating(user=1000002, product=1000010, rating=314.0)]"
      ]
     },
     "execution_count": 44,
     "metadata": {
      "tags": []
     },
     "output_type": "execute_result"
    }
   ],
   "source": [
    "# xây dựng RDD mới để training bằng cách biến đổi từng mục về đối tượng Rating\n",
    "# đối tượng Rating đại diện cho một tuple(user, product, rating)\n",
    "allData = userArtistDataRDD.map(lambda r: Rating(r[0], r[1], r[2])).cache()\n",
    "\n",
    "allData.take(5)"
   ]
  },
  {
   "cell_type": "markdown",
   "metadata": {
    "colab_type": "text",
    "id": "LFOCgedPI9yE"
   },
   "source": [
    "Mô hình có thể được train bằng cách sử dụng `ALS.trainImplicit(<trainingData>, <rank>, <interation>, <lambda>, <alpha>)` trong đó:\n",
    "\n",
    "\n",
    "*   `trainingData`: RDD của Rating hoặc tuple(userID, productID, rating)\n",
    "*   `rank`: số feature\n",
    "*   `interation`: số lần lặp của ALS. Mặc định: 5\n",
    "*   `lambda`: tham số regularization. Mặc định: 0.01\n",
    "*   `alpha`: tham số được sử dụng trong computing confidence. Mặc định: 0.01\n",
    "\n",
    "Xem thêm [ALS.trainImplicit](https://spark.apache.org/docs/latest/api/python/pyspark.mllib.html#pyspark.mllib.recommendation.ALS.trainImplicit)\n",
    "\n"
   ]
  },
  {
   "cell_type": "code",
   "execution_count": 45,
   "metadata": {
    "colab": {
     "base_uri": "https://localhost:8080/",
     "height": 34
    },
    "colab_type": "code",
    "id": "H3sKGxR4NrOh",
    "outputId": "b18a06bf-2402-4327-8ee1-d3ac417a48e4"
   },
   "outputs": [
    {
     "name": "stdout",
     "output_type": "stream",
     "text": [
      "Hoàn thành training mô hình trong 323.555163 giây\n"
     ]
    }
   ],
   "source": [
    "t0 = time()\n",
    "model = ALS.trainImplicit(allData, 10, 5, 0.01, alpha=1.0)\n",
    "t1 = time()\n",
    "print(\"Hoàn thành training mô hình trong %f giây\" % (t1 - t0))"
   ]
  },
  {
   "cell_type": "markdown",
   "metadata": {
    "colab_type": "text",
    "id": "HAFIw_hiiQgB"
   },
   "source": [
    "Việc training mô hình tiêu tốn khá nhiều thời gian do đó sau khi traning xong ta nên lưu trữ mô hình này lại."
   ]
  },
  {
   "cell_type": "code",
   "execution_count": 0,
   "metadata": {
    "colab": {},
    "colab_type": "code",
    "id": "IpjQMZ6WQPlb"
   },
   "outputs": [],
   "source": [
    "# lưu trữ mô hình để có thể sử dụng lại\n",
    "model.save(sc, \"music_model.spark\")"
   ]
  },
  {
   "cell_type": "markdown",
   "metadata": {
    "colab_type": "text",
    "id": "juBXKEX0VhFn"
   },
   "source": [
    "Mô hình đã lưu có thể được load từ file bằng cách `MatrixFactorizationModel.load(sc, <file_name>)`,"
   ]
  },
  {
   "cell_type": "code",
   "execution_count": 47,
   "metadata": {
    "colab": {
     "base_uri": "https://localhost:8080/",
     "height": 34
    },
    "colab_type": "code",
    "id": "dTgtNZ8gVgK0",
    "outputId": "eb477c97-b928-4299-c9e3-fba4b2aada98"
   },
   "outputs": [
    {
     "name": "stdout",
     "output_type": "stream",
     "text": [
      "Hoàn thành load mô hình trong 1.158806 giây\n"
     ]
    }
   ],
   "source": [
    "t0 = time()\n",
    "model = MatrixFactorizationModel.load(sc, \"music_model.spark\")\n",
    "t1 = time()\n",
    "print(\"Hoàn thành load mô hình trong %f giây\" % (t1 - t0))"
   ]
  },
  {
   "cell_type": "code",
   "execution_count": 48,
   "metadata": {
    "colab": {
     "base_uri": "https://localhost:8080/",
     "height": 71
    },
    "colab_type": "code",
    "id": "QjVK9WEIaLba",
    "outputId": "cffc3caf-1099-4880-9eb5-3a362f19be1d"
   },
   "outputs": [
    {
     "data": {
      "text/plain": [
       "(90,\n",
       " array('d', [0.2216065675020218, 0.31353285908699036, 0.5235552787780762, 0.10361422598361969, 0.40287503600120544, 0.04182986542582512, -0.9203333258628845, 1.1663964986801147, -0.3672795593738556, -0.39548608660697937]))"
      ]
     },
     "execution_count": 48,
     "metadata": {
      "tags": []
     },
     "output_type": "execute_result"
    }
   ],
   "source": [
    "# In ra hàng đầu tiên của người dùng đặc trưng (user features) trong mô hình\n",
    "# userFeatures() trả về một RDD, phần tử đầu tiên là user, phần tử thứ hai là một mảng các đặc trưng (features) tương ứng của user đó\n",
    "first_row = model.userFeatures().first()\n",
    "first_row"
   ]
  },
  {
   "cell_type": "code",
   "execution_count": 49,
   "metadata": {
    "colab": {
     "base_uri": "https://localhost:8080/",
     "height": 34
    },
    "colab_type": "code",
    "id": "TlU-alKhcOnd",
    "outputId": "d728c8cf-1a74-4793-9863-4682b42eff62"
   },
   "outputs": [
    {
     "data": {
      "text/plain": [
       "10"
      ]
     },
     "execution_count": 49,
     "metadata": {
      "tags": []
     },
     "output_type": "execute_result"
    }
   ],
   "source": [
    "# số lượng phần tử trong mảng các đặc trưng của user\n",
    "len(first_row[1])"
   ]
  },
  {
   "cell_type": "code",
   "execution_count": 50,
   "metadata": {
    "colab": {
     "base_uri": "https://localhost:8080/",
     "height": 102
    },
    "colab_type": "code",
    "id": "ZHdJWgjoeMQ_",
    "outputId": "d72ea646-5c27-43ef-ee34-da531b23d4ea"
   },
   "outputs": [
    {
     "data": {
      "text/plain": [
       "[Rating(user=2093760, product=2814, rating=0.02920381773900963),\n",
       " Rating(user=2093760, product=1037970, rating=0.02874108157876482),\n",
       " Rating(user=2093760, product=1300642, rating=0.028686512592812546),\n",
       " Rating(user=2093760, product=1001819, rating=0.028609727738179675),\n",
       " Rating(user=2093760, product=4605, rating=0.028416943788400956)]"
      ]
     },
     "execution_count": 50,
     "metadata": {
      "tags": []
     },
     "output_type": "execute_result"
    }
   ],
   "source": [
    "# Đưa ra 5 đề xuất cho user 2093760\n",
    "recommendations = (model.recommendProducts(2093760, 5))\n",
    "recommendations"
   ]
  },
  {
   "cell_type": "markdown",
   "metadata": {
    "colab_type": "text",
    "id": "SZ2sB98_fADC"
   },
   "source": [
    "Ta sẽ so sánh kết quả trên với việc sử dụng hàm `ALS.train()`"
   ]
  },
  {
   "cell_type": "code",
   "execution_count": 51,
   "metadata": {
    "colab": {
     "base_uri": "https://localhost:8080/",
     "height": 102
    },
    "colab_type": "code",
    "id": "--RTOMQjeY-J",
    "outputId": "78f9ee56-81c8-477e-bb90-a1835534c000"
   },
   "outputs": [
    {
     "data": {
      "text/plain": [
       "[Rating(user=2093760, product=6674945, rating=951.9245134532371),\n",
       " Rating(user=2093760, product=10659711, rating=794.1949213008279),\n",
       " Rating(user=2093760, product=1282813, rating=557.5058268452832),\n",
       " Rating(user=2093760, product=2106722, rating=553.5065873552369),\n",
       " Rating(user=2093760, product=6703558, rating=532.6767992907326)]"
      ]
     },
     "execution_count": 51,
     "metadata": {
      "tags": []
     },
     "output_type": "execute_result"
    }
   ],
   "source": [
    "model_2 = ALS.train(allData, 10, 5, 0.01)\n",
    "\n",
    "recommendations_2 = (model_2.recommendProducts(2093760, 5))\n",
    "recommendations_2"
   ]
  },
  {
   "cell_type": "markdown",
   "metadata": {
    "colab_type": "text",
    "id": "8wZE-7mme_GW"
   },
   "source": [
    "Ta có thể thấy sự khác nhau giữa `train` và `trainImplicit` là kết quả `rating` của `trainImplicit` được scale về [0:1] bằng MinMaxScaler. Điều này sẽ mang nhiều ý nghĩa hơn đối với đầu vào là tập dữ liệu implicit. Giá trị `rating` càng gần 1 thì `user` càng có nhiều khả năng thích `product` đó."
   ]
  },
  {
   "cell_type": "markdown",
   "metadata": {
    "colab_type": "text",
    "id": "eMWHF7zDVgr3"
   },
   "source": [
    "Những đề xuất này chỉ là ID của nghệ sĩ. Ta sẽ ánh xạ chúng thành tên nghệ sĩ bằng cách sử dụng dữ liệu trong `artist_data.txt`"
   ]
  },
  {
   "cell_type": "code",
   "execution_count": 52,
   "metadata": {
    "colab": {
     "base_uri": "https://localhost:8080/",
     "height": 34
    },
    "colab_type": "code",
    "id": "7-MxPOJ_jET3",
    "outputId": "b068c0ff-9c48-49c0-c943-7bfa2d5a537e"
   },
   "outputs": [
    {
     "name": "stdout",
     "output_type": "stream",
     "text": [
      "['50 Cent', 'Snoop Dogg', 'Kanye West', '2Pac', 'The Game']\n"
     ]
    }
   ],
   "source": [
    "def artistNames(line):\n",
    "    # input: (artistID, name)\n",
    "    # trả về True nếu artistID có trong list các ID được đề xuất, ngược lại trả về False\n",
    "    if line[0] in [recommendations[i][1] for i in range(len(recommendations))]:\n",
    "        return True\n",
    "    else:\n",
    "        return False\n",
    "\n",
    "# lọc ra các nghệ sĩ được đề xuất, lấy tên, in ra\n",
    "recList = artistDataRDD.filter(lambda line: artistNames(line)).values().collect()\n",
    "\n",
    "print(recList)"
   ]
  },
  {
   "cell_type": "code",
   "execution_count": 0,
   "metadata": {
    "colab": {},
    "colab_type": "code",
    "id": "Yw6xHlwYlqN5"
   },
   "outputs": [],
   "source": [
    "def unpersist(model):\n",
    "    model.userFeatures().unpersist()\n",
    "    model.productFeatures().unpersist()\n",
    "\n",
    "# giải phóng dữ liệu và model khỏi bộ nhớ cache khi không sử dụng\n",
    "unpersist(model)"
   ]
  },
  {
   "cell_type": "markdown",
   "metadata": {
    "colab_type": "text",
    "id": "h4MdeE34sk74"
   },
   "source": [
    "# **Tổng kết**\n",
    "\n",
    "Trong notebook này, chúng ta đã học được cách xây dựng một hệ thống lớn trên môi trường SPARK, tìm hiểu về `matrix factorization` và sử dụng nó để đưa ra các đề xuất."
   ]
  },
  {
   "cell_type": "markdown",
   "metadata": {
    "colab_type": "text",
    "id": "RGAUx3-quTry"
   },
   "source": [
    "# **Tài liệu tham khảo**\n",
    "\n",
    "*   Uri Laserson, Sandy Ryza, Sean Owen, and Josh Wills, Advanced Analytics with Spark, 2nd ed.: O'Reilly Media, Inc, 2017.\n",
    "*   https://github.com/novelari/advanced-analytics-spark/blob/master/ch3/ch3-recommender.py\n",
    "*   http://infolab.stanford.edu/~ullman/mmds/ch9.pdf\n",
    "\n"
   ]
  }
 ],
 "metadata": {
  "colab": {
   "collapsed_sections": [],
   "name": "Spark_music_recommendation.ipynb",
   "provenance": [],
   "toc_visible": true
  },
  "kernelspec": {
   "display_name": "Python 3",
   "language": "python",
   "name": "python3"
  },
  "language_info": {
   "codemirror_mode": {
    "name": "ipython",
    "version": 3
   },
   "file_extension": ".py",
   "mimetype": "text/x-python",
   "name": "python",
   "nbconvert_exporter": "python",
   "pygments_lexer": "ipython3",
   "version": "3.7.4"
  }
 },
 "nbformat": 4,
 "nbformat_minor": 1
}
